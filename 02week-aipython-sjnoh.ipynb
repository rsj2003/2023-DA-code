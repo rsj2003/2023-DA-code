{
  "metadata": {
    "language_info": {
      "codemirror_mode": {
        "name": "python",
        "version": 3
      },
      "file_extension": ".py",
      "mimetype": "text/x-python",
      "name": "python",
      "nbconvert_exporter": "python",
      "pygments_lexer": "ipython3",
      "version": "3.8"
    },
    "kernelspec": {
      "name": "python",
      "display_name": "Python (Pyodide)",
      "language": "python"
    }
  },
  "nbformat_minor": 4,
  "nbformat": 4,
  "cells": [
    {
      "cell_type": "code",
      "source": "print(10 * 7)",
      "metadata": {
        "trusted": true
      },
      "execution_count": 1,
      "outputs": [
        {
          "name": "stdout",
          "text": "70\n",
          "output_type": "stream"
        }
      ]
    },
    {
      "cell_type": "code",
      "source": "print('Hi')",
      "metadata": {
        "trusted": true
      },
      "execution_count": 2,
      "outputs": [
        {
          "name": "stdout",
          "text": "Hi\n",
          "output_type": "stream"
        }
      ]
    },
    {
      "cell_type": "code",
      "source": "a = 2025\nprint(a)",
      "metadata": {
        "trusted": true
      },
      "execution_count": 3,
      "outputs": [
        {
          "name": "stdout",
          "text": "2025\n",
          "output_type": "stream"
        }
      ]
    },
    {
      "cell_type": "code",
      "source": "print(a, a * 2)",
      "metadata": {
        "trusted": true
      },
      "execution_count": 4,
      "outputs": [
        {
          "name": "stdout",
          "text": "2025 4050\n",
          "output_type": "stream"
        }
      ]
    },
    {
      "cell_type": "code",
      "source": "b = '여러분'\nprint(b + '안녕하세요')",
      "metadata": {
        "trusted": true
      },
      "execution_count": 5,
      "outputs": [
        {
          "name": "stdout",
          "text": "여러분안녕하세요\n",
          "output_type": "stream"
        }
      ]
    },
    {
      "cell_type": "code",
      "source": "print(b, '안녕하세요')",
      "metadata": {
        "trusted": true
      },
      "execution_count": 6,
      "outputs": [
        {
          "name": "stdout",
          "text": "여러분 안녕하세요\n",
          "output_type": "stream"
        }
      ]
    },
    {
      "cell_type": "code",
      "source": "c = '새해'\nprint(a, '년에도' + c + '복 많이 받으세요')",
      "metadata": {
        "trusted": true
      },
      "execution_count": 7,
      "outputs": [
        {
          "name": "stdout",
          "text": "2025 년에도새해복 많이 받으세요\n",
          "output_type": "stream"
        }
      ]
    },
    {
      "cell_type": "code",
      "source": "name = input('이름 입력 >> ')\nname = 'sjnoh'",
      "metadata": {
        "trusted": true
      },
      "execution_count": 8,
      "outputs": [
        {
          "output_type": "stream",
          "name": "stdin",
          "text": "이름 입력 >>  sjnoh\n"
        }
      ]
    },
    {
      "cell_type": "code",
      "source": "print(name)",
      "metadata": {
        "trusted": true
      },
      "execution_count": 9,
      "outputs": [
        {
          "name": "stdout",
          "text": "sjnoh\n",
          "output_type": "stream"
        }
      ]
    },
    {
      "cell_type": "code",
      "source": "birth = input('출생 년도 입력 >> ')\nbirth = '2003'",
      "metadata": {
        "trusted": true
      },
      "execution_count": 10,
      "outputs": [
        {
          "output_type": "stream",
          "name": "stdin",
          "text": "출생 년도 입력 >>  2003\n"
        }
      ]
    },
    {
      "cell_type": "code",
      "source": "2024 - int(birth)",
      "metadata": {
        "trusted": true
      },
      "execution_count": 11,
      "outputs": [
        {
          "execution_count": 11,
          "output_type": "execute_result",
          "data": {
            "text/plain": "21"
          },
          "metadata": {}
        }
      ]
    },
    {
      "cell_type": "code",
      "source": "print(2024-int(birth), '살 입니다')",
      "metadata": {
        "trusted": true
      },
      "execution_count": 12,
      "outputs": [
        {
          "name": "stdout",
          "text": "21 살 입니다\n",
          "output_type": "stream"
        }
      ]
    },
    {
      "cell_type": "code",
      "source": "print(\n    3 + 4,\n    3- 4,\n    3 * 4,\n    3 / 4\n)",
      "metadata": {
        "trusted": true
      },
      "execution_count": 13,
      "outputs": [
        {
          "name": "stdout",
          "text": "7 -1 12 0.75\n",
          "output_type": "stream"
        }
      ]
    },
    {
      "cell_type": "code",
      "source": "print(\n    3 > 4,\n    3 >= 4,\n    3 < 4,\n    3 <= 4,\n    3 == 4,\n    3 != 4\n)",
      "metadata": {
        "trusted": true
      },
      "execution_count": 14,
      "outputs": [
        {
          "name": "stdout",
          "text": "False False True True False True\n",
          "output_type": "stream"
        }
      ]
    },
    {
      "cell_type": "code",
      "source": "bool('')",
      "metadata": {
        "trusted": true
      },
      "execution_count": 15,
      "outputs": [
        {
          "execution_count": 15,
          "output_type": "execute_result",
          "data": {
            "text/plain": "False"
          },
          "metadata": {}
        }
      ]
    },
    {
      "cell_type": "code",
      "source": "bool(0)",
      "metadata": {
        "trusted": true
      },
      "execution_count": 16,
      "outputs": [
        {
          "execution_count": 16,
          "output_type": "execute_result",
          "data": {
            "text/plain": "False"
          },
          "metadata": {}
        }
      ]
    },
    {
      "cell_type": "code",
      "source": "bool(1)",
      "metadata": {
        "trusted": true
      },
      "execution_count": 17,
      "outputs": [
        {
          "execution_count": 17,
          "output_type": "execute_result",
          "data": {
            "text/plain": "True"
          },
          "metadata": {}
        }
      ]
    },
    {
      "cell_type": "code",
      "source": "import random",
      "metadata": {
        "trusted": true
      },
      "execution_count": 18,
      "outputs": []
    },
    {
      "cell_type": "code",
      "source": "dice = random.randint(1, 6)",
      "metadata": {
        "trusted": true
      },
      "execution_count": 19,
      "outputs": []
    },
    {
      "cell_type": "code",
      "source": "dice",
      "metadata": {
        "trusted": true
      },
      "execution_count": 20,
      "outputs": [
        {
          "execution_count": 20,
          "output_type": "execute_result",
          "data": {
            "text/plain": "3"
          },
          "metadata": {}
        }
      ]
    },
    {
      "cell_type": "code",
      "source": "import math",
      "metadata": {
        "trusted": true
      },
      "execution_count": 21,
      "outputs": []
    },
    {
      "cell_type": "code",
      "source": "math.sqrt(2)",
      "metadata": {
        "trusted": true
      },
      "execution_count": 22,
      "outputs": [
        {
          "execution_count": 22,
          "output_type": "execute_result",
          "data": {
            "text/plain": "1.4142135623730951"
          },
          "metadata": {}
        }
      ]
    },
    {
      "cell_type": "code",
      "source": "math.pi",
      "metadata": {
        "trusted": true
      },
      "execution_count": 23,
      "outputs": [
        {
          "execution_count": 23,
          "output_type": "execute_result",
          "data": {
            "text/plain": "3.141592653589793"
          },
          "metadata": {}
        }
      ]
    },
    {
      "cell_type": "code",
      "source": "math.e",
      "metadata": {
        "trusted": true
      },
      "execution_count": 24,
      "outputs": [
        {
          "execution_count": 24,
          "output_type": "execute_result",
          "data": {
            "text/plain": "2.718281828459045"
          },
          "metadata": {}
        }
      ]
    },
    {
      "cell_type": "code",
      "source": "for num in range(10):\n    print(num)",
      "metadata": {
        "trusted": true
      },
      "execution_count": 25,
      "outputs": [
        {
          "name": "stdout",
          "text": "0\n1\n2\n3\n4\n5\n6\n7\n8\n9\n",
          "output_type": "stream"
        }
      ]
    },
    {
      "cell_type": "code",
      "source": "test_score = [80, 70, 90, 100]\nfor score in test_score:\n    print(score)",
      "metadata": {
        "trusted": true
      },
      "execution_count": 26,
      "outputs": [
        {
          "name": "stdout",
          "text": "80\n70\n90\n100\n",
          "output_type": "stream"
        }
      ]
    },
    {
      "cell_type": "code",
      "source": "test_name = ['국어', '영어', '수학', '과학']\nfor name in test_name:\n    print(name)",
      "metadata": {
        "trusted": true
      },
      "execution_count": 27,
      "outputs": [
        {
          "name": "stdout",
          "text": "국어\n영어\n수학\n과학\n",
          "output_type": "stream"
        }
      ]
    },
    {
      "cell_type": "code",
      "source": "if (10 > 0):\n    print('안녕하세요!')",
      "metadata": {
        "trusted": true
      },
      "execution_count": 28,
      "outputs": [
        {
          "name": "stdout",
          "text": "안녕하세요!\n",
          "output_type": "stream"
        }
      ]
    },
    {
      "cell_type": "code",
      "source": "password = input('패스워드를 입력하세요: ')\npassword = '12345'",
      "metadata": {
        "trusted": true
      },
      "execution_count": 29,
      "outputs": [
        {
          "output_type": "stream",
          "name": "stdin",
          "text": "패스워드를 입력하세요:  12345\n"
        }
      ]
    },
    {
      "cell_type": "code",
      "source": "if (int(password) == 12345):\n    print('로그인 되었습니다.')\nelif (int(password) == 11111):\n    print('관리자 권한입니다.')\nelse:\n    print('로그인에 실패하였습니다.')",
      "metadata": {
        "trusted": true
      },
      "execution_count": 30,
      "outputs": [
        {
          "name": "stdout",
          "text": "로그인 되었습니다.\n",
          "output_type": "stream"
        }
      ]
    },
    {
      "cell_type": "code",
      "source": "arr2 = ['월', '화', '수', '목', '금', '토']\nprint(arr2)",
      "metadata": {
        "trusted": true
      },
      "execution_count": 31,
      "outputs": [
        {
          "name": "stdout",
          "text": "['월', '화', '수', '목', '금', '토']\n",
          "output_type": "stream"
        }
      ]
    },
    {
      "cell_type": "code",
      "source": "print(arr2[0])\nprint(arr2[1])\nprint(arr2[2])\nprint(arr2[3])\nprint(arr2[4])\nprint(arr2[5])",
      "metadata": {
        "trusted": true
      },
      "execution_count": 32,
      "outputs": [
        {
          "name": "stdout",
          "text": "월\n화\n수\n목\n금\n토\n",
          "output_type": "stream"
        }
      ]
    },
    {
      "cell_type": "code",
      "source": "print(arr2[-1])\nprint(arr2[-2])\nprint(arr2[-3])\nprint(arr2[-4])\nprint(arr2[-5])\nprint(arr2[-6])",
      "metadata": {
        "trusted": true
      },
      "execution_count": 33,
      "outputs": [
        {
          "name": "stdout",
          "text": "토\n금\n목\n수\n화\n월\n",
          "output_type": "stream"
        }
      ]
    },
    {
      "cell_type": "code",
      "source": "print(arr2[0:2])\nprint(arr2[1:4])\nprint(arr2[1:])\nprint(arr2[:3])\nprint(arr2[:])",
      "metadata": {
        "trusted": true
      },
      "execution_count": 34,
      "outputs": [
        {
          "name": "stdout",
          "text": "['월', '화']\n['화', '수', '목']\n['화', '수', '목', '금', '토']\n['월', '화', '수']\n['월', '화', '수', '목', '금', '토']\n",
          "output_type": "stream"
        }
      ]
    },
    {
      "cell_type": "code",
      "source": "arr1 = [1, 2, 3, 4, 5]\nprint(arr1)\nprint(len(arr1))\narr1.append(6)\nprint(arr1)\nprint(len(arr1))",
      "metadata": {
        "trusted": true
      },
      "execution_count": 35,
      "outputs": [
        {
          "name": "stdout",
          "text": "[1, 2, 3, 4, 5]\n5\n[1, 2, 3, 4, 5, 6]\n6\n",
          "output_type": "stream"
        }
      ]
    },
    {
      "cell_type": "code",
      "source": "arr2 = ['월', '화', '수', '목', '금', '토']\nprint(arr2)\nprint(len(arr2))\narr2.append('일')\nprint(arr2)\nprint(len(arr2))",
      "metadata": {
        "trusted": true
      },
      "execution_count": 36,
      "outputs": [
        {
          "name": "stdout",
          "text": "['월', '화', '수', '목', '금', '토']\n6\n['월', '화', '수', '목', '금', '토', '일']\n7\n",
          "output_type": "stream"
        }
      ]
    },
    {
      "cell_type": "code",
      "source": "num1 = input('첫 번째 숫자 입력')\nnum2 = input('두 번째 숫자 입력')\nnum1 = '74'\nnum2 = '54'",
      "metadata": {
        "trusted": true
      },
      "execution_count": 44,
      "outputs": [
        {
          "output_type": "stream",
          "name": "stdin",
          "text": "첫 번째 숫자 입력 74\n두 번째 숫자 입력 54\n"
        }
      ]
    },
    {
      "cell_type": "code",
      "source": "print(num1 if float(num1) > float(num2) else num2)",
      "metadata": {
        "trusted": true
      },
      "execution_count": 45,
      "outputs": [
        {
          "name": "stdout",
          "text": "74\n",
          "output_type": "stream"
        }
      ]
    },
    {
      "cell_type": "code",
      "source": "def celsius_to_fahrenheit(celsius):\n    \"\"\"섭씨 온도를 화씨 온도로 변환하는 함수\"\"\"\n    return (celsius * 9/5) + 32\n\ndef kilometers_to_miles(kilometers):\n    \"\"\"킬로미터를 마일로 변환하는 함수\"\"\"\n    return kilometers * 0.621371\n\ndef pounds_to_kilograms(pounds):\n    \"\"\"파운드를 킬로그램으로 변환하는 함수\"\"\"\n    return pounds * 0.453592\n\n# 사용자로부터 함수 선택\nchange = input('다음 중 원하는 변환을 선택하세요: ')\nchange = '2'\nprint(\"1. 섭씨를 화씨로 변환\")\nprint(\"2. 킬로미터를 마일로 변환\")\nprint(\"3. 파운드를 킬로그램으로 변환\")\n\nval = input('변환할 값을 입력하세요: ')\nval = '13'",
      "metadata": {
        "trusted": true
      },
      "execution_count": 53,
      "outputs": [
        {
          "name": "stdout",
          "text": "1. 섭씨를 화씨로 변환\n2. 킬로미터를 마일로 변환\n3. 파운드를 킬로그램으로 변환\n",
          "output_type": "stream"
        },
        {
          "output_type": "stream",
          "name": "stdin",
          "text": "다음 중 원하는 변환을 선택하세요:  2\n변환할 값을 입력하세요:  13\n"
        }
      ]
    },
    {
      "cell_type": "code",
      "source": "if(change == '1'):\n    print(celsius_to_fahrenheit(float(val)))\nelif(change == '2'):\n    print(kilometers_to_miles(float(val)))\nelif(change == '3'):\n    print(pounds_to_kilograms(float(val)))\nelse:\n    print(\"선택한 값이 잘못되었습니다.\")",
      "metadata": {
        "trusted": true
      },
      "execution_count": 54,
      "outputs": [
        {
          "name": "stdout",
          "text": "8.077823\n",
          "output_type": "stream"
        }
      ]
    },
    {
      "cell_type": "code",
      "source": "",
      "metadata": {},
      "execution_count": null,
      "outputs": []
    }
  ]
}